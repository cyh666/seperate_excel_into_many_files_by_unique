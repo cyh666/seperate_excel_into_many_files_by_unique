{
 "cells": [
  {
   "cell_type": "code",
   "execution_count": 5,
   "metadata": {},
   "outputs": [
    {
     "name": "stdout",
     "output_type": "stream",
     "text": [
      "Done!!!\n"
     ]
    }
   ],
   "source": [
    "import pandas as pd\n",
    "df_e = pd.read_excel('D:\\\\temp_excel\\\\MoneyDJ.xlsm')\n",
    "condition_all = df_e[\"日期\"].unique()\n",
    "for condi in condition_all:\n",
    "    df_new = df_e[df_e[\"日期\"] == condi]\n",
    "    df_new.to_excel(\"D:\\\\temp_excel\\\\\" + condi +\".xlsx\")\n",
    "print(\"Done!!!\")"
   ]
  },
  {
   "cell_type": "code",
   "execution_count": null,
   "metadata": {},
   "outputs": [],
   "source": []
  }
 ],
 "metadata": {
  "kernelspec": {
   "display_name": "Python 3",
   "language": "python",
   "name": "python3"
  },
  "language_info": {
   "codemirror_mode": {
    "name": "ipython",
    "version": 3
   },
   "file_extension": ".py",
   "mimetype": "text/x-python",
   "name": "python",
   "nbconvert_exporter": "python",
   "pygments_lexer": "ipython3",
   "version": "3.7.0"
  }
 },
 "nbformat": 4,
 "nbformat_minor": 2
}
